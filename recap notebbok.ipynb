{
 "cells": [
  {
   "cell_type": "code",
   "execution_count": 1,
   "metadata": {},
   "outputs": [
    {
     "name": "stdout",
     "output_type": "stream",
     "text": [
      "holla\n"
     ]
    }
   ],
   "source": [
    "print (\"holla\")"
   ]
  },
  {
   "cell_type": "code",
   "execution_count": 2,
   "metadata": {},
   "outputs": [],
   "source": [
    "mylist = ['hello', 'hola', 'bueno']"
   ]
  },
  {
   "cell_type": "code",
   "execution_count": 5,
   "metadata": {},
   "outputs": [
    {
     "name": "stdout",
     "output_type": "stream",
     "text": [
      "After append:  [5, 10, 15, 20, 25, 30]\n",
      "After insert:  [0, 5, 10, 15, 20, 25, 30]\n",
      "After extend:  [0, 5, 10, 15, 20, 25, 30, 35, 40]\n",
      "After remove:  [0, 5, 10, 15, 25, 30, 35, 40]\n",
      "After pop:  [0, 5, 10, 15, 25, 30, 35]\n",
      "Popped item:  40\n",
      "Index of 10:  2\n",
      "Count of 10:  1\n",
      "After sort:  [0, 5, 10, 15, 25, 30, 35]\n",
      "After reverse:  [35, 30, 25, 15, 10, 5, 0]\n",
      "After clear:  []\n"
     ]
    }
   ],
   "source": [
    "# Create a list\n",
    "my_list = [5, 10, 15, 20, 25]\n",
    "\n",
    "# 1. append(): Add an element to the end of the list\n",
    "my_list.append(30)\n",
    "print(\"After append: \", my_list)\n",
    "\n",
    "# 2. insert(): Insert an item at a given position\n",
    "my_list.insert(0, 0)\n",
    "print(\"After insert: \", my_list)\n",
    "\n",
    "# 3. extend(): Extend the list by appending elements from another list\n",
    "my_list.extend([35, 40])\n",
    "print(\"After extend: \", my_list)\n",
    "\n",
    "# 4. remove(): Remove the first item from the list that has a value of x\n",
    "my_list.remove(20)\n",
    "print(\"After remove: \", my_list)\n",
    "\n",
    "# 5. pop(): Remove and return the item at a given position, default is the last item\n",
    "popped_item = my_list.pop()\n",
    "print(\"After pop: \", my_list)\n",
    "print(\"Popped item: \", popped_item)\n",
    "\n",
    "# 6. index(): Return zero-based index in the list of the first item whose value is x\n",
    "index = my_list.index(10)\n",
    "print(\"Index of 10: \", index)\n",
    "\n",
    "# 7. count(): Return the number of times x appears in the list\n",
    "count = my_list.count(10)\n",
    "print(\"Count of 10: \", count)\n",
    "\n",
    "# 8. sort(): Sort the items in the list in ascending order\n",
    "my_list.sort()\n",
    "print(\"After sort: \", my_list)\n",
    "\n",
    "# 9. reverse(): Reverse the elements of the list in place\n",
    "my_list.reverse()\n",
    "print(\"After reverse: \", my_list)\n",
    "\n",
    "# 10. clear(): Remove all items from the list\n",
    "my_list.clear()\n",
    "print(\"After clear: \", my_list)\n"
   ]
  },
  {
   "cell_type": "code",
   "execution_count": 9,
   "metadata": {},
   "outputs": [
    {
     "name": "stdout",
     "output_type": "stream",
     "text": [
      "5\n"
     ]
    }
   ],
   "source": [
    "print(len(my_list))"
   ]
  },
  {
   "cell_type": "code",
   "execution_count": 8,
   "metadata": {},
   "outputs": [],
   "source": [
    "my_list = [5, 10, 15, 20, 25]"
   ]
  },
  {
   "cell_type": "code",
   "execution_count": 2,
   "metadata": {},
   "outputs": [
    {
     "data": {
      "text/plain": [
       "[0,\n",
       " 1,\n",
       " 2,\n",
       " 3,\n",
       " 4,\n",
       " 5,\n",
       " 6,\n",
       " 7,\n",
       " 8,\n",
       " 9,\n",
       " 10,\n",
       " 11,\n",
       " 12,\n",
       " 13,\n",
       " 14,\n",
       " 15,\n",
       " 16,\n",
       " 17,\n",
       " 18,\n",
       " 19,\n",
       " 20,\n",
       " 21,\n",
       " 22,\n",
       " 23,\n",
       " 24,\n",
       " 25,\n",
       " 26,\n",
       " 27,\n",
       " 28,\n",
       " 29]"
      ]
     },
     "execution_count": 2,
     "metadata": {},
     "output_type": "execute_result"
    }
   ],
   "source": [
    "numbers = list(range(0,30))\n",
    "numbers"
   ]
  },
  {
   "cell_type": "code",
   "execution_count": null,
   "metadata": {},
   "outputs": [],
   "source": [
    "new_list = []\n",
    "for num in numbers:\n",
    "    if len(new_list) >4:\n",
    "        print(f'We have enough even numbers in new_list({len(new_list)}). break will top the loop for now')\n",
    "        break\n",
    "    elif num %2 == 0:\n",
    "        new_list.append(num)\n",
    "    elif num %2 != 0:\n",
    "        \n",
    "        continue\n",
    "    print(\"I  never get excecuted\")\n"
   ]
  },
  {
   "cell_type": "code",
   "execution_count": 1,
   "metadata": {},
   "outputs": [
    {
     "name": "stdout",
     "output_type": "stream",
     "text": [
      "[11, 13, 15, 17, 19, 21, 23, 25, 27, 29, 31, 33, 35, 37, 39, 41, 43, 45, 47, 49, 51, 53, 55, 57, 59, 61, 63, 65, 67, 69, 71, 73, 75, 77, 79]\n"
     ]
    }
   ],
   "source": [
    "list_of_numbers = list(range(0, 100))\n",
    "list_of_odd_numbers_plus_ten = []\n",
    "\n",
    "\n",
    "# use a for loop to create a list of odd numbers from the list of numbers from 0 to 100\n",
    "# each time there is an odd number, add 10 to it and append it to the list_of_odd_numbers_plus_ten\n",
    "# stop adding numbers to the list when there are 35 numbers\n",
    "# use break and continue statements in your code\n",
    "for number in list_of_numbers:\n",
    "    if number % 2 != 0:\n",
    "        list_of_odd_numbers_plus_ten.append(number+10)\n",
    "    if len(list_of_odd_numbers_plus_ten) == 35:\n",
    "        break\n",
    "    else:\n",
    "#         print(number%2)\n",
    "        continue\n",
    "        \n",
    "print (list_of_odd_numbers_plus_ten)\n",
    "    # Continue writing code here"
   ]
  },
  {
   "cell_type": "code",
   "execution_count": 3,
   "metadata": {},
   "outputs": [
    {
     "name": "stdout",
     "output_type": "stream",
     "text": [
      "We have enough even numbers in new_list (0). break will stop the for loop now\n",
      "I broke from the list! I'm out of the loop\n"
     ]
    }
   ],
   "source": [
    "numbers = list(range(0, 30))\n",
    "new_list = []\n",
    "\n",
    "for num in numbers:\n",
    "    if len(new_list) >= 0:\n",
    "        print(f'We have enough even numbers in new_list ({len(new_list)}). break will stop the for loop now')\n",
    "        break\n",
    "        \n",
    "    elif num % 2 == 0:\n",
    "        new_list.append(num)\n",
    "    elif num % 2 != 0:\n",
    "        continue\n",
    "        print('i never get executed')\n",
    "    print(num, 'is even.')\n",
    "    print('this does not print for odd numbers\\nbecause the continue statement skips\\nthe code that follows in the for loop\\nand goes straight back to the next element in the for loop')\n",
    "\n",
    "    \n",
    "print(\"I broke from the list! I'm out of the loop\")   "
   ]
  },
  {
   "cell_type": "code",
   "execution_count": 9,
   "metadata": {},
   "outputs": [
    {
     "name": "stdout",
     "output_type": "stream",
     "text": [
      "I am outside the loop\n"
     ]
    }
   ],
   "source": [
    "i = 0\n",
    "\n",
    "while i < 10:\n",
    "    if i == 0:\n",
    "        # print (\"Breaking out\")\n",
    "        break\n",
    "    elif i % 2 == 0:\n",
    "        print (\"This is an even number\", i)\n",
    "        i += 1\n",
    "        continue\n",
    "        print (\"hola\")\n",
    "    print (i)\n",
    "    i+= 1\n",
    "else: print('Loop complete')\n",
    "\n",
    "\n",
    "print(\"I am outside the loop\")   # outside the loop"
   ]
  },
  {
   "cell_type": "code",
   "execution_count": 10,
   "metadata": {},
   "outputs": [
    {
     "name": "stdout",
     "output_type": "stream",
     "text": [
      "1\n",
      "2\n",
      "4\n",
      "5\n",
      "6\n"
     ]
    }
   ],
   "source": [
    "i =0 \n",
    "while i <6:\n",
    "    i +=1\n",
    "    if i==3:\n",
    "        continue\n",
    "    print (i)"
   ]
  },
  {
   "cell_type": "code",
   "execution_count": 2,
   "metadata": {},
   "outputs": [
    {
     "name": "stdout",
     "output_type": "stream",
     "text": [
      "['.git', '.ipynb_checkpoints', 'recap notebbok.ipynb']\n"
     ]
    }
   ],
   "source": [
    "import os \n",
    "print(os.listdir())"
   ]
  },
  {
   "cell_type": "code",
   "execution_count": 7,
   "metadata": {},
   "outputs": [
    {
     "name": "stdout",
     "output_type": "stream",
     "text": [
      "The sum is 40, product is 400, difference is 0, and quotient is 1.0\n"
     ]
    }
   ],
   "source": [
    "def calculations():\n",
    "    num1 = int(input(\"Enter number 1\"))\n",
    "    num2 = int(input(\"Enter number 2\"))\n",
    "    print (f\"The sum is {num1+num2}, product is {num1*num2}, difference is {num1-num2}, and quotient is {num1/num2}\")\n",
    "\n",
    "calculations()"
   ]
  },
  {
   "cell_type": "code",
   "execution_count": 25,
   "metadata": {},
   "outputs": [],
   "source": [
    "# Write a function named print_squared_divisible_by_n(numbers) that takes\n",
    "\n",
    "# Takes a user input of n\n",
    "# Creates a list of numbers that run from 1 to numbers.\n",
    "# The function should iterate over the numbers, square each number, and print the squared values that are divisible by n.\n",
    "\n",
    "\n",
    "def print_squared_divisible_by_n(numbers):\n",
    "    n = int(input(\"Enter value of n\"))\n",
    "    my_list = list(range(1,numbers+1))\n",
    "    for item in my_list:\n",
    "        if ((item**2)%n) == 0:\n",
    "            print(item**2)\n"
   ]
  },
  {
   "cell_type": "code",
   "execution_count": 27,
   "metadata": {},
   "outputs": [
    {
     "name": "stdout",
     "output_type": "stream",
     "text": [
      "9\n",
      "36\n",
      "81\n"
     ]
    }
   ],
   "source": [
    "print_squared_divisible_by_n(10)"
   ]
  },
  {
   "cell_type": "code",
   "execution_count": 31,
   "metadata": {},
   "outputs": [
    {
     "name": "stdout",
     "output_type": "stream",
     "text": [
      "[ 1  2  3  4  5  6  7  8  9 10]\n"
     ]
    }
   ],
   "source": [
    "import numpy as np\n",
    "myarr = np.array(range(1,11))\n",
    "print(myarr)"
   ]
  },
  {
   "cell_type": "code",
   "execution_count": 32,
   "metadata": {},
   "outputs": [
    {
     "data": {
      "text/plain": [
       "array([ 1,  2,  3,  4,  5,  6,  7,  8,  9, 10, 11, 12, 13, 14, 15, 16, 17,\n",
       "       18, 19])"
      ]
     },
     "execution_count": 32,
     "metadata": {},
     "output_type": "execute_result"
    }
   ],
   "source": [
    "np.arange(1,20)"
   ]
  },
  {
   "cell_type": "code",
   "execution_count": 18,
   "metadata": {},
   "outputs": [
    {
     "name": "stdout",
     "output_type": "stream",
     "text": [
      "Cooking pancake1\n",
      "Cooking pancake2\n",
      "Cooking pancake3\n",
      "Cooking pancake4\n",
      "Cooking pancake5\n",
      "Agnes has 1123 seconds left to eat her pancakes.\n"
     ]
    }
   ],
   "source": [
    "time_for_breakfast = 1468\n",
    "cooked_pancakes = 1\n",
    "total_pancakes = 5\n",
    "cook_time_per_pancake = 27\n",
    "flipping_time = 5\n",
    "time_per_pancake = (cook_time_per_pancake * 2) + (flipping_time * 3 )\n",
    "\n",
    "\n",
    "while cooked_pancakes <= total_pancakes and time_for_breakfast >= time_per_pancake:\n",
    "    print (f\"Cooking pancake{cooked_pancakes}\")\n",
    "    time_for_breakfast -= time_per_pancake\n",
    "    \n",
    "    # print (f\"current pancake{cooked_pancakes}, current time{time_for_breakfast}\")\n",
    "    cooked_pancakes += 1\n",
    "\n",
    "print(\"Agnes has {} seconds left to eat her pancakes.\".format(time_for_breakfast))"
   ]
  },
  {
   "cell_type": "code",
   "execution_count": null,
   "metadata": {},
   "outputs": [],
   "source": []
  }
 ],
 "metadata": {
  "kernelspec": {
   "display_name": "learn-env",
   "language": "python",
   "name": "python3"
  },
  "language_info": {
   "codemirror_mode": {
    "name": "ipython",
    "version": 3
   },
   "file_extension": ".py",
   "mimetype": "text/x-python",
   "name": "python",
   "nbconvert_exporter": "python",
   "pygments_lexer": "ipython3",
   "version": "3.8.5"
  }
 },
 "nbformat": 4,
 "nbformat_minor": 4
}
