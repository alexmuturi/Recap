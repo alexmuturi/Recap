{
 "cells": [
  {
   "cell_type": "code",
   "execution_count": 1,
   "metadata": {},
   "outputs": [
    {
     "name": "stdout",
     "output_type": "stream",
     "text": [
      "holla\n"
     ]
    }
   ],
   "source": [
    "print (\"holla\")"
   ]
  },
  {
   "cell_type": "code",
   "execution_count": 2,
   "metadata": {},
   "outputs": [],
   "source": [
    "mylist = ['hello', 'hola', 'bueno']"
   ]
  },
  {
   "cell_type": "code",
   "execution_count": 5,
   "metadata": {},
   "outputs": [
    {
     "name": "stdout",
     "output_type": "stream",
     "text": [
      "After append:  [5, 10, 15, 20, 25, 30]\n",
      "After insert:  [0, 5, 10, 15, 20, 25, 30]\n",
      "After extend:  [0, 5, 10, 15, 20, 25, 30, 35, 40]\n",
      "After remove:  [0, 5, 10, 15, 25, 30, 35, 40]\n",
      "After pop:  [0, 5, 10, 15, 25, 30, 35]\n",
      "Popped item:  40\n",
      "Index of 10:  2\n",
      "Count of 10:  1\n",
      "After sort:  [0, 5, 10, 15, 25, 30, 35]\n",
      "After reverse:  [35, 30, 25, 15, 10, 5, 0]\n",
      "After clear:  []\n"
     ]
    }
   ],
   "source": [
    "# Create a list\n",
    "my_list = [5, 10, 15, 20, 25]\n",
    "\n",
    "# 1. append(): Add an element to the end of the list\n",
    "my_list.append(30)\n",
    "print(\"After append: \", my_list)\n",
    "\n",
    "# 2. insert(): Insert an item at a given position\n",
    "my_list.insert(0, 0)\n",
    "print(\"After insert: \", my_list)\n",
    "\n",
    "# 3. extend(): Extend the list by appending elements from another list\n",
    "my_list.extend([35, 40])\n",
    "print(\"After extend: \", my_list)\n",
    "\n",
    "# 4. remove(): Remove the first item from the list that has a value of x\n",
    "my_list.remove(20)\n",
    "print(\"After remove: \", my_list)\n",
    "\n",
    "# 5. pop(): Remove and return the item at a given position, default is the last item\n",
    "popped_item = my_list.pop()\n",
    "print(\"After pop: \", my_list)\n",
    "print(\"Popped item: \", popped_item)\n",
    "\n",
    "# 6. index(): Return zero-based index in the list of the first item whose value is x\n",
    "index = my_list.index(10)\n",
    "print(\"Index of 10: \", index)\n",
    "\n",
    "# 7. count(): Return the number of times x appears in the list\n",
    "count = my_list.count(10)\n",
    "print(\"Count of 10: \", count)\n",
    "\n",
    "# 8. sort(): Sort the items in the list in ascending order\n",
    "my_list.sort()\n",
    "print(\"After sort: \", my_list)\n",
    "\n",
    "# 9. reverse(): Reverse the elements of the list in place\n",
    "my_list.reverse()\n",
    "print(\"After reverse: \", my_list)\n",
    "\n",
    "# 10. clear(): Remove all items from the list\n",
    "my_list.clear()\n",
    "print(\"After clear: \", my_list)\n"
   ]
  },
  {
   "cell_type": "code",
   "execution_count": 9,
   "metadata": {},
   "outputs": [
    {
     "name": "stdout",
     "output_type": "stream",
     "text": [
      "5\n"
     ]
    }
   ],
   "source": [
    "print(len(my_list))"
   ]
  },
  {
   "cell_type": "code",
   "execution_count": 8,
   "metadata": {},
   "outputs": [],
   "source": [
    "my_list = [5, 10, 15, 20, 25]"
   ]
  },
  {
   "cell_type": "code",
   "execution_count": 2,
   "metadata": {},
   "outputs": [
    {
     "data": {
      "text/plain": [
       "[0,\n",
       " 1,\n",
       " 2,\n",
       " 3,\n",
       " 4,\n",
       " 5,\n",
       " 6,\n",
       " 7,\n",
       " 8,\n",
       " 9,\n",
       " 10,\n",
       " 11,\n",
       " 12,\n",
       " 13,\n",
       " 14,\n",
       " 15,\n",
       " 16,\n",
       " 17,\n",
       " 18,\n",
       " 19,\n",
       " 20,\n",
       " 21,\n",
       " 22,\n",
       " 23,\n",
       " 24,\n",
       " 25,\n",
       " 26,\n",
       " 27,\n",
       " 28,\n",
       " 29]"
      ]
     },
     "execution_count": 2,
     "metadata": {},
     "output_type": "execute_result"
    }
   ],
   "source": [
    "numbers = list(range(0,30))\n",
    "numbers"
   ]
  },
  {
   "cell_type": "code",
   "execution_count": null,
   "metadata": {},
   "outputs": [],
   "source": [
    "new_list = []\n",
    "for num in numbers:\n",
    "    if len(new_list) >4:\n",
    "        print(f'We have enough even numbers in new_list({len(new_list)}). break will top the loop for now')\n",
    "        break\n",
    "    elif num %2 == 0:\n",
    "        new_list.append(num)\n",
    "    elif num %2 != 0:\n",
    "        \n",
    "        continue\n",
    "    print(\"I  never get excecuted\")\n"
   ]
  },
  {
   "cell_type": "code",
   "execution_count": 1,
   "metadata": {},
   "outputs": [
    {
     "name": "stdout",
     "output_type": "stream",
     "text": [
      "[11, 13, 15, 17, 19, 21, 23, 25, 27, 29, 31, 33, 35, 37, 39, 41, 43, 45, 47, 49, 51, 53, 55, 57, 59, 61, 63, 65, 67, 69, 71, 73, 75, 77, 79]\n"
     ]
    }
   ],
   "source": [
    "list_of_numbers = list(range(0, 100))\n",
    "list_of_odd_numbers_plus_ten = []\n",
    "\n",
    "\n",
    "# use a for loop to create a list of odd numbers from the list of numbers from 0 to 100\n",
    "# each time there is an odd number, add 10 to it and append it to the list_of_odd_numbers_plus_ten\n",
    "# stop adding numbers to the list when there are 35 numbers\n",
    "# use break and continue statements in your code\n",
    "for number in list_of_numbers:\n",
    "    if number % 2 != 0:\n",
    "        list_of_odd_numbers_plus_ten.append(number+10)\n",
    "    if len(list_of_odd_numbers_plus_ten) == 35:\n",
    "        break\n",
    "    else:\n",
    "#         print(number%2)\n",
    "        continue\n",
    "        \n",
    "print (list_of_odd_numbers_plus_ten)\n",
    "    # Continue writing code here"
   ]
  },
  {
   "cell_type": "code",
   "execution_count": 3,
   "metadata": {},
   "outputs": [
    {
     "name": "stdout",
     "output_type": "stream",
     "text": [
      "We have enough even numbers in new_list (0). break will stop the for loop now\n",
      "I broke from the list! I'm out of the loop\n"
     ]
    }
   ],
   "source": [
    "numbers = list(range(0, 30))\n",
    "new_list = []\n",
    "\n",
    "for num in numbers:\n",
    "    if len(new_list) >= 0:\n",
    "        print(f'We have enough even numbers in new_list ({len(new_list)}). break will stop the for loop now')\n",
    "        break\n",
    "        \n",
    "    elif num % 2 == 0:\n",
    "        new_list.append(num)\n",
    "    elif num % 2 != 0:\n",
    "        continue\n",
    "        print('i never get executed')\n",
    "    print(num, 'is even.')\n",
    "    print('this does not print for odd numbers\\nbecause the continue statement skips\\nthe code that follows in the for loop\\nand goes straight back to the next element in the for loop')\n",
    "\n",
    "    \n",
    "print(\"I broke from the list! I'm out of the loop\")   "
   ]
  },
  {
   "cell_type": "code",
   "execution_count": 9,
   "metadata": {},
   "outputs": [
    {
     "name": "stdout",
     "output_type": "stream",
     "text": [
      "I am outside the loop\n"
     ]
    }
   ],
   "source": [
    "i = 0\n",
    "\n",
    "while i < 10:\n",
    "    if i == 0:\n",
    "        # print (\"Breaking out\")\n",
    "        break\n",
    "    elif i % 2 == 0:\n",
    "        print (\"This is an even number\", i)\n",
    "        i += 1\n",
    "        continue\n",
    "        print (\"hola\")\n",
    "    print (i)\n",
    "    i+= 1\n",
    "else: print('Loop complete')\n",
    "\n",
    "\n",
    "print(\"I am outside the loop\")   # outside the loop"
   ]
  },
  {
   "cell_type": "code",
   "execution_count": 10,
   "metadata": {},
   "outputs": [
    {
     "name": "stdout",
     "output_type": "stream",
     "text": [
      "1\n",
      "2\n",
      "4\n",
      "5\n",
      "6\n"
     ]
    }
   ],
   "source": [
    "i =0 \n",
    "while i <6:\n",
    "    i +=1\n",
    "    if i==3:\n",
    "        continue\n",
    "    print (i)"
   ]
  },
  {
   "cell_type": "code",
   "execution_count": 2,
   "metadata": {},
   "outputs": [
    {
     "name": "stdout",
     "output_type": "stream",
     "text": [
      "['.git', '.ipynb_checkpoints', 'recap notebbok.ipynb']\n"
     ]
    }
   ],
   "source": [
    "import os \n",
    "print(os.listdir())"
   ]
  },
  {
   "cell_type": "code",
   "execution_count": 7,
   "metadata": {},
   "outputs": [
    {
     "name": "stdout",
     "output_type": "stream",
     "text": [
      "The sum is 40, product is 400, difference is 0, and quotient is 1.0\n"
     ]
    }
   ],
   "source": [
    "def calculations():\n",
    "    num1 = int(input(\"Enter number 1\"))\n",
    "    num2 = int(input(\"Enter number 2\"))\n",
    "    print (f\"The sum is {num1+num2}, product is {num1*num2}, difference is {num1-num2}, and quotient is {num1/num2}\")\n",
    "\n",
    "calculations()"
   ]
  },
  {
   "cell_type": "code",
   "execution_count": 25,
   "metadata": {},
   "outputs": [],
   "source": [
    "# Write a function named print_squared_divisible_by_n(numbers) that takes\n",
    "\n",
    "# Takes a user input of n\n",
    "# Creates a list of numbers that run from 1 to numbers.\n",
    "# The function should iterate over the numbers, square each number, and print the squared values that are divisible by n.\n",
    "\n",
    "\n",
    "def print_squared_divisible_by_n(numbers):\n",
    "    n = int(input(\"Enter value of n\"))\n",
    "    my_list = list(range(1,numbers+1))\n",
    "    for item in my_list:\n",
    "        if ((item**2)%n) == 0:\n",
    "            print(item**2)\n"
   ]
  },
  {
   "cell_type": "code",
   "execution_count": 27,
   "metadata": {},
   "outputs": [
    {
     "name": "stdout",
     "output_type": "stream",
     "text": [
      "9\n",
      "36\n",
      "81\n"
     ]
    }
   ],
   "source": [
    "print_squared_divisible_by_n(10)"
   ]
  },
  {
   "cell_type": "code",
   "execution_count": 31,
   "metadata": {},
   "outputs": [
    {
     "name": "stdout",
     "output_type": "stream",
     "text": [
      "[ 1  2  3  4  5  6  7  8  9 10]\n"
     ]
    }
   ],
   "source": [
    "import numpy as np\n",
    "myarr = np.array(range(1,11))\n",
    "print(myarr)"
   ]
  },
  {
   "cell_type": "code",
   "execution_count": 32,
   "metadata": {},
   "outputs": [
    {
     "data": {
      "text/plain": [
       "array([ 1,  2,  3,  4,  5,  6,  7,  8,  9, 10, 11, 12, 13, 14, 15, 16, 17,\n",
       "       18, 19])"
      ]
     },
     "execution_count": 32,
     "metadata": {},
     "output_type": "execute_result"
    }
   ],
   "source": [
    "np.arange(1,20)"
   ]
  },
  {
   "cell_type": "code",
   "execution_count": 18,
   "metadata": {},
   "outputs": [
    {
     "name": "stdout",
     "output_type": "stream",
     "text": [
      "Cooking pancake1\n",
      "Cooking pancake2\n",
      "Cooking pancake3\n",
      "Cooking pancake4\n",
      "Cooking pancake5\n",
      "Agnes has 1123 seconds left to eat her pancakes.\n"
     ]
    }
   ],
   "source": [
    "time_for_breakfast = 1468\n",
    "cooked_pancakes = 1\n",
    "total_pancakes = 5\n",
    "cook_time_per_pancake = 27\n",
    "flipping_time = 5\n",
    "time_per_pancake = (cook_time_per_pancake * 2) + (flipping_time * 3 )\n",
    "\n",
    "\n",
    "while cooked_pancakes <= total_pancakes and time_for_breakfast >= time_per_pancake:\n",
    "    print (f\"Cooking pancake{cooked_pancakes}\")\n",
    "    time_for_breakfast -= time_per_pancake\n",
    "    \n",
    "    # print (f\"current pancake{cooked_pancakes}, current time{time_for_breakfast}\")\n",
    "    cooked_pancakes += 1\n",
    "\n",
    "print(\"Agnes has {} seconds left to eat her pancakes.\".format(time_for_breakfast))"
   ]
  },
  {
   "cell_type": "code",
   "execution_count": 1,
   "metadata": {},
   "outputs": [],
   "source": [
    "evil_monster = \"Bowser\"\n",
    "\n",
    "def princess_peachs_castle():\n",
    "    print(f\"{evil_monster} is trying to kidnap Princess Peach!\")"
   ]
  },
  {
   "cell_type": "code",
   "execution_count": 2,
   "metadata": {},
   "outputs": [
    {
     "name": "stdout",
     "output_type": "stream",
     "text": [
      "Bowser is trying to kidnap Princess Peach!\n"
     ]
    }
   ],
   "source": [
    "princess_peachs_castle()"
   ]
  },
  {
   "cell_type": "code",
   "execution_count": 29,
   "metadata": {},
   "outputs": [],
   "source": [
    "capitalized_destinations = ['argentina', 'mexico', 'italy', 'finland', 'canada', 'croatia']\n",
    "# define function here\n",
    "def capitalize_countries():\n",
    "    capitalized_names = []\n",
    "    for name in capitalized_destinations:\n",
    "        capitalized_names.append(name.title())\n",
    "    # print(capitalized_names)\n",
    "    return capitalized_names"
   ]
  },
  {
   "cell_type": "code",
   "execution_count": 30,
   "metadata": {},
   "outputs": [
    {
     "data": {
      "text/plain": [
       "['Argentina', 'Mexico', 'Italy', 'Finland', 'Canada', 'Croatia']"
      ]
     },
     "execution_count": 30,
     "metadata": {},
     "output_type": "execute_result"
    }
   ],
   "source": [
    "capitalize_countries()"
   ]
  },
  {
   "cell_type": "code",
   "execution_count": null,
   "metadata": {},
   "outputs": [],
   "source": []
  },
  {
   "cell_type": "code",
   "execution_count": 34,
   "metadata": {},
   "outputs": [],
   "source": [
    "def meet(traveller): \n",
    "                              # \"sally\"\n",
    "    welcome_message = \"Hi \" + traveller.title() + \", I'm so glad we'll be going on the trip together!\"\n",
    "    print(welcome_message)\n",
    "    return welcome_message"
   ]
  },
  {
   "cell_type": "code",
   "execution_count": 35,
   "metadata": {},
   "outputs": [
    {
     "name": "stdout",
     "output_type": "stream",
     "text": [
      "Hi Argentina, I'm so glad we'll be going on the trip together!\n",
      "Hi Mexico, I'm so glad we'll be going on the trip together!\n",
      "Hi Italy, I'm so glad we'll be going on the trip together!\n",
      "Hi Finland, I'm so glad we'll be going on the trip together!\n",
      "Hi Canada, I'm so glad we'll be going on the trip together!\n",
      "Hi Croatia, I'm so glad we'll be going on the trip together!\n"
     ]
    }
   ],
   "source": [
    "capitalized_destinations = ['argentina', 'mexico', 'italy', 'finland', 'canada', 'croatia']\n",
    "\n",
    "for traveller in capitalized_destinations:\n",
    "    meet(traveller)"
   ]
  },
  {
   "cell_type": "code",
   "execution_count": null,
   "metadata": {},
   "outputs": [],
   "source": [
    "dict_keys(['categories', 'coordinates',\n",
    "            'display_phone', 'distance', 'id', 'image_url',\n",
    "              'is_closed', 'location', 'name', 'phone',\n",
    "            'price', 'rating', 'review_count', 'transactions', 'url'])"
   ]
  },
  {
   "cell_type": "code",
   "execution_count": 1,
   "metadata": {},
   "outputs": [],
   "source": [
    "students_scores = {\n",
    "    \"John\": [85, 90, 92],\n",
    "    \"Emily\": [78, 82, 80],\n",
    "    \"Michael\": [92, 88, 94],\n",
    "    \"Sarah\": [76, 80, 85]\n",
    "}"
   ]
  },
  {
   "cell_type": "code",
   "execution_count": 12,
   "metadata": {},
   "outputs": [
    {
     "name": "stdout",
     "output_type": "stream",
     "text": [
      "Name: John\n",
      "85\n",
      "90\n",
      "92\n",
      "Name: Emily\n",
      "78\n",
      "82\n",
      "80\n",
      "Name: Michael\n",
      "92\n",
      "88\n",
      "94\n",
      "Name: Sarah\n",
      "76\n",
      "80\n",
      "85\n"
     ]
    }
   ],
   "source": [
    "for key, value in students_scores.items():\n",
    "\n",
    "    print ('Name: ' + key  )\n",
    "    print (*value, sep = '\\n')\n",
    "    # print (' '.join(value))\n",
    "\n",
    "    # name = key \n",
    "    # aver = sum(list(value))/len(list(value))\n",
    "    \n",
    "    # print (key, 'kk', aver)"
   ]
  },
  {
   "cell_type": "code",
   "execution_count": 15,
   "metadata": {},
   "outputs": [],
   "source": [
    "# Question: You are a teacher and need to calculate the average score for each student in a class. You have a dictionary where each key represents a student's name, and the value is a list of their scores. How would you use a loop to calculate and print the average score for each student?\n",
    "students_scores = {\n",
    "    \"John\": [85, 90, 92],\n",
    "    \"Emily\": [78, 82, 80],\n",
    "    \"Michael\": [92, 88, 94],\n",
    "    \"Sarah\": [76, 80, 85]\n",
    "}"
   ]
  },
  {
   "cell_type": "code",
   "execution_count": 16,
   "metadata": {},
   "outputs": [
    {
     "data": {
      "text/plain": [
       "4"
      ]
     },
     "execution_count": 16,
     "metadata": {},
     "output_type": "execute_result"
    }
   ],
   "source": [
    "len(students_scores)"
   ]
  },
  {
   "cell_type": "markdown",
   "metadata": {},
   "source": []
  },
  {
   "cell_type": "code",
   "execution_count": 17,
   "metadata": {},
   "outputs": [
    {
     "name": "stderr",
     "output_type": "stream",
     "text": [
      "<frozen importlib._bootstrap>:219: RuntimeWarning: numpy.ufunc size changed, may indicate binary incompatibility. Expected 192 from C header, got 216 from PyObject\n",
      "<frozen importlib._bootstrap>:219: RuntimeWarning: numpy.ufunc size changed, may indicate binary incompatibility. Expected 192 from C header, got 216 from PyObject\n",
      "<frozen importlib._bootstrap>:219: RuntimeWarning: numpy.ufunc size changed, may indicate binary incompatibility. Expected 192 from C header, got 216 from PyObject\n"
     ]
    },
    {
     "ename": "KeyboardInterrupt",
     "evalue": "",
     "output_type": "error",
     "traceback": [
      "\u001b[1;31m---------------------------------------------------------------------------\u001b[0m",
      "\u001b[1;31mKeyboardInterrupt\u001b[0m                         Traceback (most recent call last)",
      "\u001b[1;32m<ipython-input-17-dcc8e03bb4b3>\u001b[0m in \u001b[0;36m<module>\u001b[1;34m\u001b[0m\n\u001b[1;32m----> 1\u001b[1;33m \u001b[1;32mfrom\u001b[0m \u001b[0mscipy\u001b[0m \u001b[1;32mimport\u001b[0m \u001b[0mstats\u001b[0m\u001b[1;33m\u001b[0m\u001b[1;33m\u001b[0m\u001b[0m\n\u001b[0m",
      "\u001b[1;32mc:\\Users\\Libellule\\anaconda3\\envs\\learn-env\\lib\\site-packages\\scipy\\stats\\__init__.py\u001b[0m in \u001b[0;36m<module>\u001b[1;34m\u001b[0m\n\u001b[0;32m    386\u001b[0m \u001b[1;33m\u001b[0m\u001b[0m\n\u001b[0;32m    387\u001b[0m \"\"\"\n\u001b[1;32m--> 388\u001b[1;33m \u001b[1;32mfrom\u001b[0m \u001b[1;33m.\u001b[0m\u001b[0mstats\u001b[0m \u001b[1;32mimport\u001b[0m \u001b[1;33m*\u001b[0m\u001b[1;33m\u001b[0m\u001b[1;33m\u001b[0m\u001b[0m\n\u001b[0m\u001b[0;32m    389\u001b[0m \u001b[1;32mfrom\u001b[0m \u001b[1;33m.\u001b[0m\u001b[0mdistributions\u001b[0m \u001b[1;32mimport\u001b[0m \u001b[1;33m*\u001b[0m\u001b[1;33m\u001b[0m\u001b[1;33m\u001b[0m\u001b[0m\n\u001b[0;32m    390\u001b[0m \u001b[1;32mfrom\u001b[0m \u001b[1;33m.\u001b[0m\u001b[0mmorestats\u001b[0m \u001b[1;32mimport\u001b[0m \u001b[1;33m*\u001b[0m\u001b[1;33m\u001b[0m\u001b[1;33m\u001b[0m\u001b[0m\n",
      "\u001b[1;32mc:\\Users\\Libellule\\anaconda3\\envs\\learn-env\\lib\\site-packages\\scipy\\stats\\stats.py\u001b[0m in \u001b[0;36m<module>\u001b[1;34m\u001b[0m\n\u001b[0;32m    173\u001b[0m \u001b[1;33m\u001b[0m\u001b[0m\n\u001b[0;32m    174\u001b[0m \u001b[1;32mfrom\u001b[0m \u001b[0mscipy\u001b[0m\u001b[1;33m.\u001b[0m\u001b[0mspatial\u001b[0m\u001b[1;33m.\u001b[0m\u001b[0mdistance\u001b[0m \u001b[1;32mimport\u001b[0m \u001b[0mcdist\u001b[0m\u001b[1;33m\u001b[0m\u001b[1;33m\u001b[0m\u001b[0m\n\u001b[1;32m--> 175\u001b[1;33m \u001b[1;32mfrom\u001b[0m \u001b[0mscipy\u001b[0m\u001b[1;33m.\u001b[0m\u001b[0mndimage\u001b[0m \u001b[1;32mimport\u001b[0m \u001b[0mmeasurements\u001b[0m\u001b[1;33m\u001b[0m\u001b[1;33m\u001b[0m\u001b[0m\n\u001b[0m\u001b[0;32m    176\u001b[0m from scipy._lib._util import (_lazywhere, check_random_state, MapWrapper,\n\u001b[0;32m    177\u001b[0m                               rng_integers)\n",
      "\u001b[1;32mc:\\Users\\Libellule\\anaconda3\\envs\\learn-env\\lib\\site-packages\\scipy\\ndimage\\__init__.py\u001b[0m in \u001b[0;36m<module>\u001b[1;34m\u001b[0m\n\u001b[0;32m    149\u001b[0m \u001b[1;31m# SOFTWARE, EVEN IF ADVISED OF THE POSSIBILITY OF SUCH DAMAGE.\u001b[0m\u001b[1;33m\u001b[0m\u001b[1;33m\u001b[0m\u001b[1;33m\u001b[0m\u001b[0m\n\u001b[0;32m    150\u001b[0m \u001b[1;33m\u001b[0m\u001b[0m\n\u001b[1;32m--> 151\u001b[1;33m \u001b[1;32mfrom\u001b[0m \u001b[1;33m.\u001b[0m\u001b[0mfilters\u001b[0m \u001b[1;32mimport\u001b[0m \u001b[1;33m*\u001b[0m\u001b[1;33m\u001b[0m\u001b[1;33m\u001b[0m\u001b[0m\n\u001b[0m\u001b[0;32m    152\u001b[0m \u001b[1;32mfrom\u001b[0m \u001b[1;33m.\u001b[0m\u001b[0mfourier\u001b[0m \u001b[1;32mimport\u001b[0m \u001b[1;33m*\u001b[0m\u001b[1;33m\u001b[0m\u001b[1;33m\u001b[0m\u001b[0m\n\u001b[0;32m    153\u001b[0m \u001b[1;32mfrom\u001b[0m \u001b[1;33m.\u001b[0m\u001b[0minterpolation\u001b[0m \u001b[1;32mimport\u001b[0m \u001b[1;33m*\u001b[0m\u001b[1;33m\u001b[0m\u001b[1;33m\u001b[0m\u001b[0m\n",
      "\u001b[1;32mc:\\Users\\Libellule\\anaconda3\\envs\\learn-env\\lib\\site-packages\\scipy\\ndimage\\filters.py\u001b[0m in \u001b[0;36m<module>\u001b[1;34m\u001b[0m\n\u001b[0;32m     35\u001b[0m \u001b[1;32mfrom\u001b[0m \u001b[0mnumpy\u001b[0m\u001b[1;33m.\u001b[0m\u001b[0mcore\u001b[0m\u001b[1;33m.\u001b[0m\u001b[0mmultiarray\u001b[0m \u001b[1;32mimport\u001b[0m \u001b[0mnormalize_axis_index\u001b[0m\u001b[1;33m\u001b[0m\u001b[1;33m\u001b[0m\u001b[0m\n\u001b[0;32m     36\u001b[0m \u001b[1;32mfrom\u001b[0m \u001b[1;33m.\u001b[0m \u001b[1;32mimport\u001b[0m \u001b[0m_ni_support\u001b[0m\u001b[1;33m\u001b[0m\u001b[1;33m\u001b[0m\u001b[0m\n\u001b[1;32m---> 37\u001b[1;33m \u001b[1;32mfrom\u001b[0m \u001b[1;33m.\u001b[0m \u001b[1;32mimport\u001b[0m \u001b[0m_nd_image\u001b[0m\u001b[1;33m\u001b[0m\u001b[1;33m\u001b[0m\u001b[0m\n\u001b[0m\u001b[0;32m     38\u001b[0m \u001b[1;32mfrom\u001b[0m \u001b[1;33m.\u001b[0m \u001b[1;32mimport\u001b[0m \u001b[0m_ni_docstrings\u001b[0m\u001b[1;33m\u001b[0m\u001b[1;33m\u001b[0m\u001b[0m\n\u001b[0;32m     39\u001b[0m \u001b[1;33m\u001b[0m\u001b[0m\n",
      "\u001b[1;31mKeyboardInterrupt\u001b[0m: "
     ]
    }
   ],
   "source": [
    "from scipy import stats"
   ]
  },
  {
   "cell_type": "code",
   "execution_count": null,
   "metadata": {},
   "outputs": [],
   "source": []
  },
  {
   "cell_type": "code",
   "execution_count": 1,
   "metadata": {},
   "outputs": [],
   "source": [
    "import numpy as np"
   ]
  },
  {
   "cell_type": "code",
   "execution_count": 2,
   "metadata": {},
   "outputs": [
    {
     "data": {
      "text/plain": [
       "[0, 1, 2, 3, 4, 5, 6, 7, 8, 9, 10]"
      ]
     },
     "execution_count": 2,
     "metadata": {},
     "output_type": "execute_result"
    }
   ],
   "source": [
    "list = list (range(0,11))\n",
    "list"
   ]
  },
  {
   "cell_type": "code",
   "execution_count": 3,
   "metadata": {},
   "outputs": [
    {
     "data": {
      "text/plain": [
       "array([ 0,  1,  2,  3,  4,  5,  6,  7,  8,  9, 10])"
      ]
     },
     "execution_count": 3,
     "metadata": {},
     "output_type": "execute_result"
    }
   ],
   "source": [
    "arr = np.array(list)\n",
    "arr"
   ]
  },
  {
   "cell_type": "code",
   "execution_count": 4,
   "metadata": {},
   "outputs": [
    {
     "data": {
      "text/plain": [
       "numpy.ndarray"
      ]
     },
     "execution_count": 4,
     "metadata": {},
     "output_type": "execute_result"
    }
   ],
   "source": [
    "type(arr)"
   ]
  },
  {
   "cell_type": "code",
   "execution_count": 5,
   "metadata": {},
   "outputs": [
    {
     "data": {
      "text/plain": [
       "array([10, 11, 12, 13, 14, 15, 16, 17, 18, 19, 20])"
      ]
     },
     "execution_count": 5,
     "metadata": {},
     "output_type": "execute_result"
    }
   ],
   "source": [
    "#addition:\n",
    "np.add(arr, 10)"
   ]
  },
  {
   "cell_type": "code",
   "execution_count": 6,
   "metadata": {},
   "outputs": [
    {
     "data": {
      "text/plain": [
       "array([-10,  -9,  -8,  -7,  -6,  -5,  -4,  -3,  -2,  -1,   0])"
      ]
     },
     "execution_count": 6,
     "metadata": {},
     "output_type": "execute_result"
    }
   ],
   "source": [
    "#subtraction\n",
    "np.subtract(arr, 10)"
   ]
  },
  {
   "cell_type": "code",
   "execution_count": 10,
   "metadata": {},
   "outputs": [
    {
     "data": {
      "text/plain": [
       "array([1, 1, 1, 1, 1, 1, 1, 1, 1, 1, 1], dtype=int32)"
      ]
     },
     "execution_count": 10,
     "metadata": {},
     "output_type": "execute_result"
    }
   ],
   "source": [
    "np.power(arr,0)"
   ]
  },
  {
   "cell_type": "code",
   "execution_count": 12,
   "metadata": {},
   "outputs": [
    {
     "data": {
      "text/plain": [
       "array([0. , 0.1, 0.2, 0.3, 0.4, 0.5, 0.6, 0.7, 0.8, 0.9, 1. ])"
      ]
     },
     "execution_count": 12,
     "metadata": {},
     "output_type": "execute_result"
    }
   ],
   "source": [
    "np.divide(arr,10)"
   ]
  },
  {
   "cell_type": "code",
   "execution_count": 14,
   "metadata": {},
   "outputs": [
    {
     "data": {
      "text/plain": [
       "array([0. , 0.2, 0.4, 0.6, 0.8, 1. , 1.2, 1.4, 1.6, 1.8, 2. ])"
      ]
     },
     "execution_count": 14,
     "metadata": {},
     "output_type": "execute_result"
    }
   ],
   "source": [
    "newarr = np.divide(arr,5)\n",
    "newarr"
   ]
  },
  {
   "cell_type": "code",
   "execution_count": 15,
   "metadata": {},
   "outputs": [
    {
     "data": {
      "text/plain": [
       "array([0., 1., 1., 1., 1., 1., 2., 2., 2., 2., 2.])"
      ]
     },
     "execution_count": 15,
     "metadata": {},
     "output_type": "execute_result"
    }
   ],
   "source": [
    "np.ceil(newarr)"
   ]
  },
  {
   "cell_type": "code",
   "execution_count": 17,
   "metadata": {},
   "outputs": [
    {
     "data": {
      "text/plain": [
       "array([0., 0., 0., 0., 0., 1., 1., 1., 1., 1., 2.])"
      ]
     },
     "execution_count": 17,
     "metadata": {},
     "output_type": "execute_result"
    }
   ],
   "source": [
    "np.floor(newarr)"
   ]
  },
  {
   "cell_type": "code",
   "execution_count": 18,
   "metadata": {},
   "outputs": [
    {
     "data": {
      "text/plain": [
       "array([0., 0., 0., 1., 1., 1., 1., 1., 2., 2., 2.])"
      ]
     },
     "execution_count": 18,
     "metadata": {},
     "output_type": "execute_result"
    }
   ],
   "source": [
    "np.round(newarr)"
   ]
  },
  {
   "cell_type": "code",
   "execution_count": 20,
   "metadata": {},
   "outputs": [
    {
     "data": {
      "text/plain": [
       "False"
      ]
     },
     "execution_count": 20,
     "metadata": {},
     "output_type": "execute_result"
    }
   ],
   "source": [
    "np.array_equal(arr,newarr)"
   ]
  },
  {
   "cell_type": "code",
   "execution_count": 23,
   "metadata": {},
   "outputs": [
    {
     "name": "stdout",
     "output_type": "stream",
     "text": [
      "[ 0  1  2  3  4  5  6  7  8  9 10]\n",
      "[0.  0.2 0.4 0.6 0.8 1.  1.2 1.4 1.6 1.8 2. ]\n"
     ]
    },
    {
     "data": {
      "text/plain": [
       "array([ 0. ,  0.2,  0.8,  1.8,  3.2,  5. ,  7.2,  9.8, 12.8, 16.2, 20. ])"
      ]
     },
     "execution_count": 23,
     "metadata": {},
     "output_type": "execute_result"
    }
   ],
   "source": [
    "print(arr)\n",
    "print (newarr)\n",
    "np.multiply(arr, newarr)"
   ]
  },
  {
   "cell_type": "code",
   "execution_count": null,
   "metadata": {},
   "outputs": [],
   "source": []
  },
  {
   "cell_type": "code",
   "execution_count": null,
   "metadata": {},
   "outputs": [],
   "source": []
  }
 ],
 "metadata": {
  "kernelspec": {
   "display_name": "learn-env",
   "language": "python",
   "name": "python3"
  },
  "language_info": {
   "codemirror_mode": {
    "name": "ipython",
    "version": 3
   },
   "file_extension": ".py",
   "mimetype": "text/x-python",
   "name": "python",
   "nbconvert_exporter": "python",
   "pygments_lexer": "ipython3",
   "version": "3.8.5"
  }
 },
 "nbformat": 4,
 "nbformat_minor": 4
}
